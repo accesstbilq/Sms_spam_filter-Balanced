{
 "cells": [
  {
   "cell_type": "markdown",
   "id": "ccf3c6cf-4115-4b5a-8aeb-66df18f64a11",
   "metadata": {},
   "source": [
    "# Spam Detection for Imbalanced Data Using Random Sampling (SMOTE)"
   ]
  },
  {
   "cell_type": "markdown",
   "id": "4d61f558-e94a-433a-a0d7-065b565ecc06",
   "metadata": {
    "jp-MarkdownHeadingCollapsed": true
   },
   "source": [
    "# Importing required packages"
   ]
  },
  {
   "cell_type": "code",
   "execution_count": 1,
   "id": "adec39ae-1317-4cfa-a5e4-ba1a54ffca71",
   "metadata": {},
   "outputs": [],
   "source": [
    "import pandas as pd\n",
    "import numpy as np\n",
    "import re\n",
    "from sklearn.model_selection import train_test_split\n",
    "from sklearn.linear_model import LinearRegression, Ridge\n",
    "import matplotlib.pyplot as plt\n",
    "import seaborn as sns\n",
    "from sklearn.preprocessing import StandardScaler, MinMaxScaler, OneHotEncoder, PowerTransformer, OrdinalEncoder, LabelEncoder, FunctionTransformer, PolynomialFeatures\n",
    "from sklearn.tree import DecisionTreeRegressor\n",
    "from sklearn.metrics import mean_squared_error, r2_score, mean_absolute_error, accuracy_score\n",
    "from sklearn.model_selection import cross_val_score, KFold\n",
    "from sklearn.ensemble import VotingRegressor, RandomForestRegressor, GradientBoostingRegressor, GradientBoostingClassifier, RandomForestClassifier\n",
    "from sklearn.feature_extraction.text import CountVectorizer, TfidfVectorizer\n",
    "from sklearn.preprocessing import LabelEncoder\n",
    "from nltk.stem import PorterStemmer\n",
    "import nltk\n",
    "from sklearn.neighbors import KNeighborsClassifier\n",
    "from nltk.tokenize import word_tokenize\n",
    "from nltk.corpus import stopwords\n",
    "from collections import Counter\n",
    "from sklearn.model_selection import GridSearchCV\n",
    "from sklearn.metrics import classification_report\n",
    "from sklearn.svm import SVC\n",
    "import time"
   ]
  },
  {
   "cell_type": "markdown",
   "id": "e0ad4760-9540-4c51-800c-89c1fad15710",
   "metadata": {
    "jp-MarkdownHeadingCollapsed": true
   },
   "source": [
    "# Data Cleaning"
   ]
  },
  {
   "cell_type": "code",
   "execution_count": 2,
   "id": "59738d2c-8410-45b9-8593-c7eb7cf88096",
   "metadata": {},
   "outputs": [],
   "source": [
    "# Creating pandas dataframe of spam_1.csv using read_csv method.\n",
    "df = pd.read_csv('spam_1.csv', low_memory=False)"
   ]
  },
  {
   "cell_type": "code",
   "execution_count": 3,
   "id": "6fbc097e-084a-4a96-b705-35620c0e44d0",
   "metadata": {},
   "outputs": [],
   "source": [
    "# Dropping unnecessary columns from dataframe\n",
    "df = df.drop(['Unnamed: 2', 'Unnamed: 3', 'Unnamed: 4'], axis=1)"
   ]
  },
  {
   "cell_type": "code",
   "execution_count": 4,
   "id": "733abf79-19c8-4f10-bf21-0d2de24b47f3",
   "metadata": {},
   "outputs": [
    {
     "data": {
      "text/html": [
       "<div>\n",
       "<style scoped>\n",
       "    .dataframe tbody tr th:only-of-type {\n",
       "        vertical-align: middle;\n",
       "    }\n",
       "\n",
       "    .dataframe tbody tr th {\n",
       "        vertical-align: top;\n",
       "    }\n",
       "\n",
       "    .dataframe thead th {\n",
       "        text-align: right;\n",
       "    }\n",
       "</style>\n",
       "<table border=\"1\" class=\"dataframe\">\n",
       "  <thead>\n",
       "    <tr style=\"text-align: right;\">\n",
       "      <th></th>\n",
       "      <th>v1</th>\n",
       "      <th>v2</th>\n",
       "    </tr>\n",
       "  </thead>\n",
       "  <tbody>\n",
       "    <tr>\n",
       "      <th>0</th>\n",
       "      <td>ham</td>\n",
       "      <td>Go until jurong point, crazy.. Available only ...</td>\n",
       "    </tr>\n",
       "    <tr>\n",
       "      <th>1</th>\n",
       "      <td>ham</td>\n",
       "      <td>Ok lar... Joking wif u oni...</td>\n",
       "    </tr>\n",
       "    <tr>\n",
       "      <th>2</th>\n",
       "      <td>spam</td>\n",
       "      <td>Free entry in 2 a wkly comp to win FA Cup fina...</td>\n",
       "    </tr>\n",
       "    <tr>\n",
       "      <th>3</th>\n",
       "      <td>ham</td>\n",
       "      <td>U dun say so early hor... U c already then say...</td>\n",
       "    </tr>\n",
       "    <tr>\n",
       "      <th>4</th>\n",
       "      <td>ham</td>\n",
       "      <td>Nah I don't think he goes to usf, he lives aro...</td>\n",
       "    </tr>\n",
       "  </tbody>\n",
       "</table>\n",
       "</div>"
      ],
      "text/plain": [
       "     v1                                                 v2\n",
       "0   ham  Go until jurong point, crazy.. Available only ...\n",
       "1   ham                      Ok lar... Joking wif u oni...\n",
       "2  spam  Free entry in 2 a wkly comp to win FA Cup fina...\n",
       "3   ham  U dun say so early hor... U c already then say...\n",
       "4   ham  Nah I don't think he goes to usf, he lives aro..."
      ]
     },
     "execution_count": 4,
     "metadata": {},
     "output_type": "execute_result"
    }
   ],
   "source": [
    "df.head()"
   ]
  },
  {
   "cell_type": "code",
   "execution_count": 5,
   "id": "76c5cebe-8924-4ee0-95c3-ced6953e8eea",
   "metadata": {},
   "outputs": [
    {
     "data": {
      "text/plain": [
       "(5572, 2)"
      ]
     },
     "execution_count": 5,
     "metadata": {},
     "output_type": "execute_result"
    }
   ],
   "source": [
    "# checking the dimensions of pandas dataframe.\n",
    "df.shape"
   ]
  },
  {
   "cell_type": "code",
   "execution_count": 6,
   "id": "03adeb2d-2c06-4294-bd3c-e7367836ef6f",
   "metadata": {},
   "outputs": [
    {
     "name": "stdout",
     "output_type": "stream",
     "text": [
      "v1    0\n",
      "v2    0\n",
      "dtype: int64\n"
     ]
    }
   ],
   "source": [
    "# Checking null values.\n",
    "null_counts = df.isnull().sum()\n",
    "print(null_counts)"
   ]
  },
  {
   "cell_type": "code",
   "execution_count": 7,
   "id": "7d326d79-ed1d-4a71-8f2a-e6bba7102d17",
   "metadata": {},
   "outputs": [
    {
     "name": "stdout",
     "output_type": "stream",
     "text": [
      "dup rows: 409\n"
     ]
    }
   ],
   "source": [
    "# checking duplicates values.\n",
    "dup_rows = df.duplicated().sum()\n",
    "print(f\"dup rows: {dup_rows}\")"
   ]
  },
  {
   "cell_type": "code",
   "execution_count": 8,
   "id": "73c2b4d3-7dad-456c-9e6e-5d49656493cf",
   "metadata": {},
   "outputs": [],
   "source": [
    "# dropping duplicate rows.\n",
    "df = df.drop_duplicates()"
   ]
  },
  {
   "cell_type": "code",
   "execution_count": 9,
   "id": "4fb635a5-ce97-42ca-bc0d-26c461d0e851",
   "metadata": {},
   "outputs": [
    {
     "data": {
      "text/plain": [
       "(5163, 2)"
      ]
     },
     "execution_count": 9,
     "metadata": {},
     "output_type": "execute_result"
    }
   ],
   "source": [
    "df.shape"
   ]
  },
  {
   "cell_type": "code",
   "execution_count": 10,
   "id": "87969c88-3408-4977-9215-feec2bc032d2",
   "metadata": {},
   "outputs": [
    {
     "name": "stdout",
     "output_type": "stream",
     "text": [
      "No of 0 (Non-Spam): 4516\n",
      "No of 1 (Spam): 647\n"
     ]
    }
   ],
   "source": [
    "# Checking if dataset is balanced or not.\n",
    "spam_counts = df['v1'].value_counts()\n",
    "\n",
    "print(\"No of 0 (Non-Spam):\", spam_counts.iloc[0])\n",
    "print(\"No of 1 (Spam):\", spam_counts.iloc[1])"
   ]
  },
  {
   "cell_type": "markdown",
   "id": "9f2fd1fd-a1f0-4f3f-8de3-90fb48808a50",
   "metadata": {
    "jp-MarkdownHeadingCollapsed": true
   },
   "source": [
    "# EDA"
   ]
  },
  {
   "cell_type": "markdown",
   "id": "5f2b623b-853f-44a7-a68a-912f128fffc6",
   "metadata": {},
   "source": [
    "EDA 1: Bar Plot for No. of Spam/Non-spams"
   ]
  },
  {
   "cell_type": "code",
   "execution_count": 11,
   "id": "41a5c63e-48c4-4192-b712-9efc9e2ca369",
   "metadata": {},
   "outputs": [
    {
     "data": {
      "image/png": "[encoded data removed]",
      "text/plain": [
       "<Figure size 600x400 with 1 Axes>"
      ]
     },
     "metadata": {},
     "output_type": "display_data"
    }
   ],
   "source": [
    "value_counts = df['v1'].value_counts()\n",
    "\n",
    "plt.figure(figsize=(6, 4))\n",
    "value_counts.plot(kind='bar')\n",
    "plt.title('Spam and Not-Spam')\n",
    "plt.xlabel('Value')\n",
    "plt.ylabel('Count')\n",
    "plt.xticks(rotation=0)\n",
    "\n",
    "for i, count in enumerate(value_counts):\n",
    "   plt.text(i, count, str(count), ha='center', va='bottom')\n",
    "\n",
    "plt.tight_layout()\n",
    "plt.show()"
   ]
  },
  {
   "cell_type": "code",
   "execution_count": 12,
   "id": "0de87311-4bd1-42ec-9447-c903ea7d672a",
   "metadata": {},
   "outputs": [],
   "source": [
    "# Converting target values (ham and spam) into binary format(0,1).\n",
    "le = LabelEncoder()\n",
    "df['v1'] = le.fit_transform(df['v1'])"
   ]
  },
  {
   "cell_type": "markdown",
   "id": "86ec4f86-5c26-4169-8960-a5bf37322277",
   "metadata": {
    "jp-MarkdownHeadingCollapsed": true
   },
   "source": [
    "# Preprocessing"
   ]
  },
  {
   "cell_type": "markdown",
   "id": "64e49e2a-a842-415e-b4b5-e651aa0cafc0",
   "metadata": {},
   "source": [
    "Preprocessing 1: Lower case"
   ]
  },
  {
   "cell_type": "code",
   "execution_count": 13,
   "id": "b2517b30-c147-461a-8f19-f00a5f1e6f25",
   "metadata": {},
   "outputs": [],
   "source": [
    "# Converting text into lower case \n",
    "df['v2'] = df['v2'].str.lower()"
   ]
  },
  {
   "cell_type": "markdown",
   "id": "b4921166-8fb7-412e-9d9e-a994241fddcb",
   "metadata": {},
   "source": [
    "Preprocessing 2: De-contractions Words"
   ]
  },
  {
   "cell_type": "code",
   "execution_count": 14,
   "id": "f9219004-4bbe-4924-a4fe-cd2cfaf2bc91",
   "metadata": {},
   "outputs": [],
   "source": [
    "# Defining contractions dataset.\n",
    "contractions = { \n",
    "\"ain't\": \"am not / are not / is not / has not / have not\",\n",
    "\"aren't\": \"are not / am not\",\n",
    "\"can't\": \"cannot\",\n",
    "\"can't've\": \"cannot have\",\n",
    "\"'cause\": \"because\",\n",
    "\"could've\": \"could have\",\n",
    "\"couldn't\": \"could not\",\n",
    "\"couldn't've\": \"could not have\",\n",
    "\"didn't\": \"did not\",\n",
    "\"doesn't\": \"does not\",\n",
    "\"don't\": \"do not\",\n",
    "\"hadn't\": \"had not\",\n",
    "\"hadn't've\": \"had not have\",\n",
    "\"hasn't\": \"has not\",\n",
    "\"haven't\": \"have not\",\n",
    "\"he'd\": \"he had / he would\",\n",
    "\"he'd've\": \"he would have\",\n",
    "\"he'll\": \"he shall / he will\",\n",
    "\"he'll've\": \"he shall have / he will have\",\n",
    "\"he's\": \"he has / he is\",\n",
    "\"how'd\": \"how did\",\n",
    "\"how'd'y\": \"how do you\",\n",
    "\"how'll\": \"how will\",\n",
    "\"how's\": \"how has / how is / how does\",\n",
    "\"I'd\": \"I had / I would\",\n",
    "\"I'd've\": \"I would have\",\n",
    "\"I'll\": \"I shall / I will\",\n",
    "\"I'll've\": \"I shall have / I will have\",\n",
    "\"I'm\": \"I am\",\n",
    "\"I've\": \"I have\",\n",
    "\"isn't\": \"is not\",\n",
    "\"it'd\": \"it had / it would\",\n",
    "\"it'd've\": \"it would have\",\n",
    "\"it'll\": \"it shall / it will\",\n",
    "\"it'll've\": \"it shall have / it will have\",\n",
    "\"it's\": \"it has / it is\",\n",
    "\"let's\": \"let us\",\n",
    "\"ma'am\": \"madam\",\n",
    "\"mayn't\": \"may not\",\n",
    "\"might've\": \"might have\",\n",
    "\"mightn't\": \"might not\",\n",
    "\"mightn't've\": \"might not have\",\n",
    "\"must've\": \"must have\",\n",
    "\"mustn't\": \"must not\",\n",
    "\"mustn't've\": \"must not have\",\n",
    "\"needn't\": \"need not\",\n",
    "\"needn't've\": \"need not have\",\n",
    "\"o'clock\": \"of the clock\",\n",
    "\"oughtn't\": \"ought not\",\n",
    "\"oughtn't've\": \"ought not have\",\n",
    "\"shan't\": \"shall not\",\n",
    "\"sha'n't\": \"shall not\",\n",
    "\"shan't've\": \"shall not have\",\n",
    "\"she'd\": \"she had / she would\",\n",
    "\"she'd've\": \"she would have\",\n",
    "\"she'll\": \"she shall / she will\",\n",
    "\"she'll've\": \"she shall have / she will have\",\n",
    "\"she's\": \"she has / she is\",\n",
    "\"should've\": \"should have\",\n",
    "\"shouldn't\": \"should not\",\n",
    "\"shouldn't've\": \"should not have\",\n",
    "\"so've\": \"so have\",\n",
    "\"so's\": \"so as / so is\",\n",
    "\"that'd\": \"that would / that had\",\n",
    "\"that'd've\": \"that would have\",\n",
    "\"that's\": \"that has / that is\",\n",
    "\"there'd\": \"there had / there would\",\n",
    "\"there'd've\": \"there would have\",\n",
    "\"there's\": \"there has / there is\",\n",
    "\"they'd\": \"they had / they would\",\n",
    "\"they'd've\": \"they would have\",\n",
    "\"they'll\": \"they shall / they will\",\n",
    "\"they'll've\": \"they shall have / they will have\",\n",
    "\"they're\": \"they are\",\n",
    "\"they've\": \"they have\",\n",
    "\"to've\": \"to have\",\n",
    "\"wasn't\": \"was not\",\n",
    "\"we'd\": \"we had / we would\",\n",
    "\"we'd've\": \"we would have\",\n",
    "\"we'll\": \"we will\",\n",
    "\"we'll've\": \"we will have\",\n",
    "\"we're\": \"we are\",\n",
    "\"we've\": \"we have\",\n",
    "\"weren't\": \"were not\",\n",
    "\"what'll\": \"what shall / what will\",\n",
    "\"what'll've\": \"what shall have / what will have\",\n",
    "\"what're\": \"what are\",\n",
    "\"what's\": \"what has / what is\",\n",
    "\"what've\": \"what have\",\n",
    "\"when's\": \"when has / when is\",\n",
    "\"when've\": \"when have\",\n",
    "\"where'd\": \"where did\",\n",
    "\"where's\": \"where has / where is\",\n",
    "\"where've\": \"where have\",\n",
    "\"who'll\": \"who shall / who will\",\n",
    "\"who'll've\": \"who shall have / who will have\",\n",
    "\"who's\": \"who has / who is\",\n",
    "\"who've\": \"who have\",\n",
    "\"why's\": \"why has / why is\",\n",
    "\"why've\": \"why have\",\n",
    "\"will've\": \"will have\",\n",
    "\"won't\": \"will not\",\n",
    "\"won't've\": \"will not have\",\n",
    "\"would've\": \"would have\",\n",
    "\"wouldn't\": \"would not\",\n",
    "\"wouldn't've\": \"would not have\",\n",
    "\"y'all\": \"you all\",\n",
    "\"y'all'd\": \"you all would\",\n",
    "\"y'all'd've\": \"you all would have\",\n",
    "\"y'all're\": \"you all are\",\n",
    "\"y'all've\": \"you all have\",\n",
    "\"you'd\": \"you had / you would\",\n",
    "\"you'd've\": \"you would have\",\n",
    "\"you'll\": \"you shall / you will\",\n",
    "\"you'll've\": \"you shall have / you will have\",\n",
    "\"you're\": \"you are\",\n",
    "\"you've\": \"you have\"\n",
    "}"
   ]
  },
  {
   "cell_type": "code",
   "execution_count": 15,
   "id": "5e2ef387-6443-49f8-a370-0590579a4399",
   "metadata": {},
   "outputs": [],
   "source": [
    "# Function to decontract words.\n",
    "def contr_words(text, contractions_dict):\n",
    "    text = str(text)\n",
    "    for contraction, expansion in contractions_dict.items():\n",
    "        text = re.sub(r'\\b' + re.escape(contraction) + r'\\b', expansion, text, flags=re.IGNORECASE)\n",
    "    return text"
   ]
  },
  {
   "cell_type": "code",
   "execution_count": 16,
   "id": "acb58dd8-ddd4-4092-9fb9-27360ba88973",
   "metadata": {},
   "outputs": [],
   "source": [
    "df['v2'] = df['v2'].apply(lambda x: contr_words(x, contractions))"
   ]
  },
  {
   "cell_type": "markdown",
   "id": "7e163b42-f589-41d6-89b4-ac154e29e200",
   "metadata": {},
   "source": [
    "Preprocessing 3: Removing Special Characters"
   ]
  },
  {
   "cell_type": "code",
   "execution_count": 17,
   "id": "1e15e878-1360-4b6d-bbcc-6faea744cd81",
   "metadata": {},
   "outputs": [],
   "source": [
    "# Removing special Characters using regex expression.\n",
    "df['v2'] = df['v2'].str.replace(r'[^\\w\\s]', '', regex=True)"
   ]
  },
  {
   "cell_type": "markdown",
   "id": "f80bbff1-8f2a-45a5-90de-cab90055d381",
   "metadata": {},
   "source": [
    "Preprocessing 4: Removing Stopwords"
   ]
  },
  {
   "cell_type": "code",
   "execution_count": 18,
   "id": "58d7826d-30f1-4266-8405-326fbf260e9a",
   "metadata": {},
   "outputs": [
    {
     "name": "stderr",
     "output_type": "stream",
     "text": [
      "[nltk_data] Downloading package stopwords to /root/nltk_data...\n",
      "[nltk_data]   Package stopwords is already up-to-date!\n",
      "[nltk_data] Downloading package punkt to /root/nltk_data...\n",
      "[nltk_data]   Package punkt is already up-to-date!\n"
     ]
    }
   ],
   "source": [
    "# downloading required packages to remove stopwords\n",
    "nltk.download('stopwords')\n",
    "nltk.download('punkt')\n",
    "english_stopwords = set(stopwords.words('english'))"
   ]
  },
  {
   "cell_type": "code",
   "execution_count": 19,
   "id": "61b9c59c-9fb4-420c-8d7f-d5c66794d5ef",
   "metadata": {},
   "outputs": [],
   "source": [
    "# Function to remove stopwords.\n",
    "def remove_stopwords(text):\n",
    "    tokens = word_tokenize(text.lower())  \n",
    "    tokens_wo_stopwords = [word for word in tokens if word not in english_stopwords] \n",
    "    return ' '.join(tokens_wo_stopwords)"
   ]
  },
  {
   "cell_type": "code",
   "execution_count": 20,
   "id": "f61c113a-5882-4ca0-8b9d-a78d756ae8d7",
   "metadata": {},
   "outputs": [],
   "source": [
    "df['v2'] = df['v2'].apply(remove_stopwords)"
   ]
  },
  {
   "cell_type": "markdown",
   "id": "4fe4f9c1-b6cd-4239-90bf-1401811dbe69",
   "metadata": {},
   "source": [
    "Preprocessing 5: Stemming"
   ]
  },
  {
   "cell_type": "code",
   "execution_count": 21,
   "id": "a1841826-bae1-4d53-93f4-58112ea41fd9",
   "metadata": {},
   "outputs": [],
   "source": [
    "# Implementing stemming using nltk - PorterStemmer module.\n",
    "ps = PorterStemmer()\n",
    "\n",
    "def stem_text(text):\n",
    "    words = str(text).lower().split()\n",
    "    stemmed_words = [ps.stem(word) for word in words]\n",
    "    return ' '.join(stemmed_words)"
   ]
  },
  {
   "cell_type": "code",
   "execution_count": 22,
   "id": "ff9161c6-f734-46e7-92fb-9400995ddb19",
   "metadata": {},
   "outputs": [],
   "source": [
    "df['v2'] = df['v2'].apply(stem_text)"
   ]
  },
  {
   "cell_type": "markdown",
   "id": "c5c50b84-7583-4634-a4a0-01ff4393a345",
   "metadata": {
    "jp-MarkdownHeadingCollapsed": true
   },
   "source": [
    "# Feature Engineering"
   ]
  },
  {
   "cell_type": "code",
   "execution_count": 23,
   "id": "b1e55ba0-9436-401d-a774-937b2b32435b",
   "metadata": {},
   "outputs": [],
   "source": [
    "# Function to count number of words in a text.\n",
    "def count_total_words(text):\n",
    "    return len(word_tokenize(text))"
   ]
  },
  {
   "cell_type": "code",
   "execution_count": 24,
   "id": "5e4bc7cd-3d60-42a5-9b81-8651fd4d60f5",
   "metadata": {},
   "outputs": [],
   "source": [
    "df['num_words'] = df['v2'].apply(count_total_words)"
   ]
  },
  {
   "cell_type": "code",
   "execution_count": 25,
   "id": "355a24d0-79d7-42f1-b5f3-6aee66cdf44d",
   "metadata": {},
   "outputs": [
    {
     "data": {
      "text/html": [
       "<div>\n",
       "<style scoped>\n",
       "    .dataframe tbody tr th:only-of-type {\n",
       "        vertical-align: middle;\n",
       "    }\n",
       "\n",
       "    .dataframe tbody tr th {\n",
       "        vertical-align: top;\n",
       "    }\n",
       "\n",
       "    .dataframe thead th {\n",
       "        text-align: right;\n",
       "    }\n",
       "</style>\n",
       "<table border=\"1\" class=\"dataframe\">\n",
       "  <thead>\n",
       "    <tr style=\"text-align: right;\">\n",
       "      <th></th>\n",
       "      <th>v1</th>\n",
       "      <th>v2</th>\n",
       "      <th>num_words</th>\n",
       "    </tr>\n",
       "  </thead>\n",
       "  <tbody>\n",
       "    <tr>\n",
       "      <th>0</th>\n",
       "      <td>0</td>\n",
       "      <td>go jurong point crazi avail bugi n great world...</td>\n",
       "      <td>16</td>\n",
       "    </tr>\n",
       "    <tr>\n",
       "      <th>1</th>\n",
       "      <td>0</td>\n",
       "      <td>ok lar joke wif u oni</td>\n",
       "      <td>6</td>\n",
       "    </tr>\n",
       "    <tr>\n",
       "      <th>2</th>\n",
       "      <td>1</td>\n",
       "      <td>free entri 2 wkli comp win fa cup final tkt 21...</td>\n",
       "      <td>23</td>\n",
       "    </tr>\n",
       "    <tr>\n",
       "      <th>3</th>\n",
       "      <td>0</td>\n",
       "      <td>u dun say earli hor u c alreadi say</td>\n",
       "      <td>9</td>\n",
       "    </tr>\n",
       "    <tr>\n",
       "      <th>4</th>\n",
       "      <td>0</td>\n",
       "      <td>nah think goe usf live around though</td>\n",
       "      <td>7</td>\n",
       "    </tr>\n",
       "  </tbody>\n",
       "</table>\n",
       "</div>"
      ],
      "text/plain": [
       "   v1                                                 v2  num_words\n",
       "0   0  go jurong point crazi avail bugi n great world...         16\n",
       "1   0                              ok lar joke wif u oni          6\n",
       "2   1  free entri 2 wkli comp win fa cup final tkt 21...         23\n",
       "3   0                u dun say earli hor u c alreadi say          9\n",
       "4   0               nah think goe usf live around though          7"
      ]
     },
     "execution_count": 25,
     "metadata": {},
     "output_type": "execute_result"
    }
   ],
   "source": [
    "df.head()"
   ]
  },
  {
   "cell_type": "markdown",
   "id": "18dcd4f1-7e37-4d1c-a19d-e4a6fd5137a3",
   "metadata": {
    "jp-MarkdownHeadingCollapsed": true
   },
   "source": [
    "# Bag of Words"
   ]
  },
  {
   "cell_type": "code",
   "execution_count": 26,
   "id": "0fcaf928-f554-4ff3-9865-c7157ed735a8",
   "metadata": {},
   "outputs": [],
   "source": [
    "# Implementing Bag of words using TfidVectorizer.\n",
    "vectorizer = TfidfVectorizer(\n",
    "    stop_words='english',\n",
    "    max_features=4000,\n",
    "    lowercase=True,\n",
    ")\n",
    "bow_matrix = vectorizer.fit_transform(df['v2'])\n",
    "feature_names = vectorizer.get_feature_names_out()"
   ]
  },
  {
   "cell_type": "code",
   "execution_count": 27,
   "id": "6942b07d-44e8-43fe-b500-4f5f0809104e",
   "metadata": {},
   "outputs": [
    {
     "data": {
      "text/plain": [
       "(5163, 4000)"
      ]
     },
     "execution_count": 27,
     "metadata": {},
     "output_type": "execute_result"
    }
   ],
   "source": [
    "bow_matrix.shape"
   ]
  },
  {
   "cell_type": "code",
   "execution_count": 28,
   "id": "88ac7811-2572-4e9a-b7be-e35613734fa2",
   "metadata": {},
   "outputs": [],
   "source": [
    "# Converting bag of word matrix back to pandas dataframe\n",
    "bow_matrix_df = pd.DataFrame(bow_matrix.toarray())"
   ]
  },
  {
   "cell_type": "code",
   "execution_count": 29,
   "id": "05fa0561-9895-4150-aa61-d1126b116d5a",
   "metadata": {},
   "outputs": [],
   "source": [
    "num_w_df = pd.DataFrame(df['num_words'])"
   ]
  },
  {
   "cell_type": "code",
   "execution_count": 30,
   "id": "ff63da8e-3835-4263-945f-a015e8e9708a",
   "metadata": {},
   "outputs": [
    {
     "data": {
      "text/plain": [
       "(5163, 1)"
      ]
     },
     "execution_count": 30,
     "metadata": {},
     "output_type": "execute_result"
    }
   ],
   "source": [
    "num_w_df.shape"
   ]
  },
  {
   "cell_type": "code",
   "execution_count": 31,
   "id": "a5614608-d5c1-4964-a24e-288efdd319eb",
   "metadata": {},
   "outputs": [],
   "source": [
    "# Merging bow_matrix and no of words to single dataframe.\n",
    "bow_matrix_df = bow_matrix_df.reset_index(drop=True)\n",
    "num_w_df = num_w_df.reset_index(drop=True)\n",
    "final_df = pd.concat([bow_matrix_df, num_w_df], axis=1)"
   ]
  },
  {
   "cell_type": "code",
   "execution_count": 32,
   "id": "0650ecde-aece-44c9-9312-5d0ab3d6bdb9",
   "metadata": {},
   "outputs": [],
   "source": [
    "final_df = final_df.rename(str, axis=\"columns\") "
   ]
  },
  {
   "cell_type": "code",
   "execution_count": 33,
   "id": "494f8ad3-e0a9-4d79-a523-377aecbd77a4",
   "metadata": {},
   "outputs": [
    {
     "data": {
      "text/plain": [
       "(5163, 4001)"
      ]
     },
     "execution_count": 33,
     "metadata": {},
     "output_type": "execute_result"
    }
   ],
   "source": [
    "final_df.shape"
   ]
  },
  {
   "cell_type": "markdown",
   "id": "b5003cb9-0b9f-4216-85a9-bda4beab9924",
   "metadata": {
    "jp-MarkdownHeadingCollapsed": true
   },
   "source": [
    "# Train, Test and Split"
   ]
  },
  {
   "cell_type": "code",
   "execution_count": 34,
   "id": "db4f7364-5cf4-4ab8-8cdc-55d1a8c44442",
   "metadata": {},
   "outputs": [],
   "source": [
    "# Spliting X and Y (target) variables.\n",
    "X = final_df\n",
    "y = df['v1']"
   ]
  },
  {
   "cell_type": "code",
   "execution_count": 35,
   "id": "11bf94fa-74d2-4013-9929-a63ae5b4c3bc",
   "metadata": {},
   "outputs": [],
   "source": [
    "# Spliting train and test data by 80:20 ratio.\n",
    "X_train, X_test, y_train, y_test = train_test_split(\n",
    "    X, y, test_size=0.2, random_state=42\n",
    ")"
   ]
  },
  {
   "cell_type": "markdown",
   "id": "076e7253-8c09-41f5-84a1-6eccef391c9d",
   "metadata": {
    "jp-MarkdownHeadingCollapsed": true
   },
   "source": [
    "# Random sampling to handle imbalanced dataset <br>\n",
    "SMOTE reduced the Accuracy of all models. But it improves the results of Spam detection than previous models."
   ]
  },
  {
   "cell_type": "code",
   "execution_count": null,
   "id": "df4d2f63-f5ad-4714-8057-826dee4ae6d4",
   "metadata": {
    "scrolled": true
   },
   "outputs": [],
   "source": [
    "import sys\n",
    "!{sys.executable} -m pip install imblearn"
   ]
  },
  {
   "cell_type": "code",
   "execution_count": 37,
   "id": "31f01255-8d28-4d3a-8833-540d6c9c098c",
   "metadata": {},
   "outputs": [],
   "source": [
    "# Importing required modules for Random Sampling to handle imbalanced dataset.\n",
    "from imblearn.under_sampling import RandomUnderSampler\n",
    "from imblearn.over_sampling import RandomOverSampler, SMOTE"
   ]
  },
  {
   "cell_type": "markdown",
   "id": "5167c9a2-0119-43fd-9280-5eda31ee401d",
   "metadata": {},
   "source": [
    "SMOTE: It creates synthetic samples of minority(Spam) classes equals to majority(Non-spam) classes."
   ]
  },
  {
   "cell_type": "code",
   "execution_count": 38,
   "id": "6767c152-579e-4030-be23-4b6633002224",
   "metadata": {},
   "outputs": [],
   "source": [
    "smote = SMOTE(\n",
    "    sampling_strategy='auto', \n",
    "    random_state=42,\n",
    "    k_neighbors=5  \n",
    ")"
   ]
  },
  {
   "cell_type": "code",
   "execution_count": 39,
   "id": "9af7ee32-2d0d-4125-9e6c-641b6ed77300",
   "metadata": {},
   "outputs": [],
   "source": [
    "X_sampled, y_sampled = smote.fit_resample(X_train, y_train)"
   ]
  },
  {
   "cell_type": "code",
   "execution_count": 40,
   "id": "9a102c59-00d5-4811-926a-ca2a2db72d1d",
   "metadata": {},
   "outputs": [
    {
     "name": "stdout",
     "output_type": "stream",
     "text": [
      "No of 0 (Non-Spam): 3599\n",
      "No of 1 (Spam): 3599\n",
      "Ratio of Non-Spam to Spam: 1.0\n"
     ]
    }
   ],
   "source": [
    "resampled_spam_counts = pd.Series(y_sampled).value_counts()\n",
    "print(\"No of 0 (Non-Spam):\", resampled_spam_counts.iloc[0])\n",
    "print(\"No of 1 (Spam):\", resampled_spam_counts.iloc[1])\n",
    "print(\"Ratio of Non-Spam to Spam:\", resampled_spam_counts.iloc[0] / resampled_spam_counts.iloc[1])"
   ]
  },
  {
   "cell_type": "markdown",
   "id": "3ef8a3bd-dcd8-4534-8295-cf4aa439531e",
   "metadata": {
    "jp-MarkdownHeadingCollapsed": true
   },
   "source": [
    "# Model 1: Gradient Boosting"
   ]
  },
  {
   "cell_type": "code",
   "execution_count": 41,
   "id": "30863588-56eb-40a2-881c-dc2e8bcc90b9",
   "metadata": {},
   "outputs": [],
   "source": [
    "gb_classifier_resampled = GradientBoostingClassifier(\n",
    "    n_estimators=100, \n",
    "    learning_rate=0.1, \n",
    "    max_depth=3, \n",
    "    random_state=42,\n",
    ")"
   ]
  },
  {
   "cell_type": "code",
   "execution_count": 42,
   "id": "0baa01a7-0093-4e8a-b2de-eda8440aa9c9",
   "metadata": {},
   "outputs": [],
   "source": [
    "start_time = time.time()\n",
    "gb_classifier_resampled.fit(X_sampled, y_sampled)\n",
    "gb_training_time = time.time() - start_time"
   ]
  },
  {
   "cell_type": "code",
   "execution_count": 43,
   "id": "924776c9-4470-4ffb-94af-cec3161f8ba9",
   "metadata": {},
   "outputs": [
    {
     "name": "stdout",
     "output_type": "stream",
     "text": [
      "Accuracy : 0.9486931268151017\n",
      "Training Time: 13.9185 seconds\n"
     ]
    }
   ],
   "source": [
    "gb_pred_resampled = gb_classifier_resampled.predict(X_test)\n",
    "print(\"Accuracy :\", accuracy_score(y_test, gb_pred_resampled))\n",
    "print(\"Training Time: {:.4f} seconds\".format(gb_training_time))"
   ]
  },
  {
   "cell_type": "markdown",
   "id": "396006e5-bdc4-4fa8-aef6-532b96f493d9",
   "metadata": {
    "jp-MarkdownHeadingCollapsed": true
   },
   "source": [
    "# Model 2: KNN"
   ]
  },
  {
   "cell_type": "code",
   "execution_count": 44,
   "id": "00f752a2-de6a-4195-a2d2-bf0bc7045bd5",
   "metadata": {},
   "outputs": [],
   "source": [
    "knn_classifier = KNeighborsClassifier(n_neighbors=5, weights='distance')\n",
    "start_time = time.time()\n",
    "knn_classifier.fit(X_sampled, y_sampled)\n",
    "knn_training_time = time.time() - start_time\n",
    "knn_pred = knn_classifier.predict(X_test)"
   ]
  },
  {
   "cell_type": "code",
   "execution_count": 45,
   "id": "bf8f6e0f-1be5-4e69-ad9b-0080c39526eb",
   "metadata": {},
   "outputs": [
    {
     "name": "stdout",
     "output_type": "stream",
     "text": [
      "Accuracy: 0.42110358180058083\n",
      "KNN Training Time: 0.1494 seconds\n"
     ]
    }
   ],
   "source": [
    "print(\"Accuracy:\", accuracy_score(y_test, knn_pred))\n",
    "print(\"KNN Training Time: {:.4f} seconds\".format(knn_training_time))"
   ]
  },
  {
   "cell_type": "markdown",
   "id": "5c4c5482-ec03-4f12-a2b7-81dc6db71c46",
   "metadata": {
    "jp-MarkdownHeadingCollapsed": true
   },
   "source": [
    "# Model 3: Random Forest"
   ]
  },
  {
   "cell_type": "code",
   "execution_count": 46,
   "id": "c5117991-1bb0-4d74-9f93-cf4e1bbf643a",
   "metadata": {},
   "outputs": [],
   "source": [
    "rf_classifier = RandomForestClassifier(\n",
    "    n_estimators=100, \n",
    "    random_state=42,\n",
    "    class_weight='balanced'\n",
    ")\n",
    "\n",
    "start_time = time.time()\n",
    "rf_classifier.fit(X_sampled, y_sampled)\n",
    "rf_training_time = time.time() - start_time\n",
    "rf_pred = rf_classifier.predict(X_test)"
   ]
  },
  {
   "cell_type": "code",
   "execution_count": 47,
   "id": "64d0cbf5-e495-42ff-b5e8-6eff63007cd3",
   "metadata": {},
   "outputs": [
    {
     "name": "stdout",
     "output_type": "stream",
     "text": [
      "Accuracy: 0.9738625363020329\n",
      "RF Training Time: 3.0933 seconds\n"
     ]
    }
   ],
   "source": [
    "print(\"Accuracy:\", accuracy_score(y_test, rf_pred))\n",
    "print(\"RF Training Time: {:.4f} seconds\".format(rf_training_time))"
   ]
  },
  {
   "cell_type": "markdown",
   "id": "056e0e37-add8-4985-a4cd-a9d6a64dc7b8",
   "metadata": {
    "jp-MarkdownHeadingCollapsed": true
   },
   "source": [
    "# Extracting Models"
   ]
  },
  {
   "cell_type": "code",
   "execution_count": 48,
   "id": "9b0107e1-1f47-4e70-bdf0-7629eabd9178",
   "metadata": {},
   "outputs": [
    {
     "data": {
      "text/plain": [
       "['knn_model.joblib']"
      ]
     },
     "execution_count": 48,
     "metadata": {},
     "output_type": "execute_result"
    }
   ],
   "source": [
    "import joblib\n",
    "\n",
    "joblib.dump(rf_classifier, 'rf_model.joblib')\n",
    "joblib.dump(vectorizer, 'spam_vectorizer.joblib')\n",
    "joblib.dump(gb_classifier_resampled, 'gb_model.joblib')\n",
    "joblib.dump(knn_classifier, 'knn_model.joblib')"
   ]
  },
  {
   "cell_type": "code",
   "execution_count": 49,
   "id": "f0ddb88a-52db-46a4-b403-7617f42949b6",
   "metadata": {},
   "outputs": [],
   "source": [
    "def predict_spam(text, contractions):\n",
    "    loaded_model = joblib.load('knn_model.joblib')\n",
    "    loaded_vectorizer = joblib.load('spam_vectorizer.joblib')\n",
    "    \n",
    "    text = text.lower()\n",
    "    \n",
    "    for contraction, expansion in contractions.items():\n",
    "        text = re.sub(r'\\b' + re.escape(contraction) + r'\\b', expansion, text, flags=re.IGNORECASE)\n",
    "    \n",
    "    text = re.sub(r'[^\\w\\s]', '', text)\n",
    "\n",
    "    tokens = word_tokenize(text.lower())\n",
    "    english_stopwords = set(stopwords.words('english'))\n",
    "    tokens_wo_stopwords = [word for word in tokens if word not in english_stopwords]\n",
    "    text = ' '.join(tokens_wo_stopwords)\n",
    "    \n",
    "    ps = PorterStemmer()\n",
    "    words = text.lower().split()\n",
    "    stemmed_words = [ps.stem(word) for word in words]\n",
    "    text = ' '.join(stemmed_words)\n",
    "    \n",
    "    num_words = len(word_tokenize(text))\n",
    "    \n",
    "    bow_matrix = loaded_vectorizer.transform([text])\n",
    "    \n",
    "    input_features = pd.DataFrame(bow_matrix.toarray())\n",
    "    input_features['num_words'] = num_words\n",
    "    input_features = input_features.rename(str, axis=\"columns\")\n",
    "    \n",
    "    prediction = loaded_model.predict(input_features)\n",
    "    \n",
    "    return \"Spam\" if prediction[0] == 1 else \"Not Spam\""
   ]
  },
  {
   "cell_type": "code",
   "execution_count": 50,
   "id": "3e2ef605-401f-4dec-8657-85249989564a",
   "metadata": {},
   "outputs": [
    {
     "name": "stdout",
     "output_type": "stream",
     "text": [
      "Spam\n"
     ]
    }
   ],
   "source": [
    "print(predict_spam(\"Free prize! Click here to claim now!\", contractions))"
   ]
  },
  {
   "cell_type": "code",
   "execution_count": 51,
   "id": "ad8005cd-fa1b-4e36-88c5-383fbc49054d",
   "metadata": {},
   "outputs": [
    {
     "name": "stdout",
     "output_type": "stream",
     "text": [
      "Not Spam\n"
     ]
    }
   ],
   "source": [
    "print(predict_spam(\"Hi, how are you doing today?\", contractions))"
   ]
  },
  {
   "cell_type": "code",
   "execution_count": 52,
   "id": "4b21be00-bf56-4d1c-a76b-d604b9470e39",
   "metadata": {},
   "outputs": [
    {
     "name": "stdout",
     "output_type": "stream",
     "text": [
      "Spam\n"
     ]
    }
   ],
   "source": [
    "print(predict_spam(\"Free iPhone! Click here to claim your prize now!\", contractions))"
   ]
  },
  {
   "cell_type": "code",
   "execution_count": null,
   "id": "a4d0d6dd-02f8-4406-abe0-23b49cfd8829",
   "metadata": {},
   "outputs": [],
   "source": []
  },
  {
   "cell_type": "code",
   "execution_count": null,
   "id": "6130c057-f3bc-43ff-a77d-a806836e81c3",
   "metadata": {},
   "outputs": [],
   "source": []
  }
 ],
 "metadata": {
  "kernelspec": {
   "display_name": "Python 3 (ipykernel)",
   "language": "python",
   "name": "python3"
  },
  "language_info": {
   "codemirror_mode": {
    "name": "ipython",
    "version": 3
   },
   "file_extension": ".py",
   "mimetype": "text/x-python",
   "name": "python",
   "nbconvert_exporter": "python",
   "pygments_lexer": "ipython3",
   "version": "3.10.12"
  }
 },
 "nbformat": 4,
 "nbformat_minor": 5
}
